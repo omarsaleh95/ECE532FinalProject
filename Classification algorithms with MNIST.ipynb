{
 "cells": [
  {
   "cell_type": "code",
   "execution_count": 1,
   "metadata": {},
   "outputs": [],
   "source": [
    "# setup\n",
    "import numpy as np\n",
    "import gzip\n",
    "import numpy as np\n",
    "import math\n",
    "import matplotlib.pyplot as plt\n"
   ]
  },
  {
   "cell_type": "code",
   "execution_count": 2,
   "metadata": {},
   "outputs": [],
   "source": [
    "def set_binary_labels_by_digit(labels_in, digit):\n",
    "    d = np.zeros((labels_in.shape[0],1))\n",
    "\n",
    "    for i in range(labels_in.shape[0]):\n",
    "        if labels_in[i] == digit:\n",
    "            d[i] = 1\n",
    "        else:\n",
    "            d[i] = -1\n",
    "    \n",
    "    return d\n"
   ]
  },
  {
   "cell_type": "code",
   "execution_count": 3,
   "metadata": {},
   "outputs": [],
   "source": [
    "def select_random_subset(features, labels, subset_size):\n",
    "    set_indices = np.arange(labels.shape[0])\n",
    "    subset_indices = np.random.choice(set_indices,5,replace=False)\n",
    "    \n",
    "    subset_features = np.zeros((subset_size, features.shape[1]))\n",
    "    subset_labels = np.zeros((subset_size, 1))\n",
    "    \n",
    "    for i, subset_index in enumerate(subset_indices):\n",
    "        subset_features[i] = features[subset_index]\n",
    "        subset_labels[i] = labels[subset_index]\n",
    "        \n",
    "    return subset_features, subset_labels"
   ]
  },
  {
   "cell_type": "markdown",
   "metadata": {},
   "source": [
    "# Data Imports"
   ]
  },
  {
   "cell_type": "code",
   "execution_count": 4,
   "metadata": {},
   "outputs": [],
   "source": [
    "# specify size of images\n",
    "image_rows = 28\n",
    "image_cols = 28"
   ]
  },
  {
   "cell_type": "markdown",
   "metadata": {},
   "source": [
    "## Training data and labels"
   ]
  },
  {
   "cell_type": "code",
   "execution_count": 5,
   "metadata": {},
   "outputs": [],
   "source": [
    "# open training set image file\n",
    "f = gzip.open('train-images-idx3-ubyte.gz','r')\n",
    "\n",
    "num_train_images = 60000\n",
    "\n",
    "f.read(16)\n",
    "buf = f.read(image_rows * image_cols * num_train_images)\n",
    "train_data = np.frombuffer(buf, dtype=np.uint8).astype(np.float32)\n",
    "train_data = train_data.reshape(num_train_images, image_rows, image_cols,1)"
   ]
  },
  {
   "cell_type": "code",
   "execution_count": 6,
   "metadata": {},
   "outputs": [],
   "source": [
    "# open training set label file\n",
    "\n",
    "f = gzip.open('train-labels-idx1-ubyte.gz','r')\n",
    "f.read(8)\n",
    "\n",
    "buf = f.read(num_train_images)\n",
    "train_labels = np.frombuffer(buf, dtype=np.uint8).astype(np.float32)\n",
    "train_labels = train_labels.reshape(num_train_images,1)"
   ]
  },
  {
   "cell_type": "code",
   "execution_count": 7,
   "metadata": {},
   "outputs": [
    {
     "name": "stdout",
     "output_type": "stream",
     "text": [
      "training data: (60000, 28, 28, 1) \n",
      "\n",
      "image index 0:\n"
     ]
    },
    {
     "data": {
      "image/png": "[encoded data removed]",
      "text/plain": [
       "<Figure size 432x288 with 1 Axes>"
      ]
     },
     "metadata": {
      "needs_background": "light"
     },
     "output_type": "display_data"
    },
    {
     "name": "stdout",
     "output_type": "stream",
     "text": [
      "label: [5.]\n",
      "(28, 28, 1)\n",
      "(28, 28)\n"
     ]
    }
   ],
   "source": [
    "# troubleshoot data import\n",
    "\n",
    "ind = 0\n",
    "\n",
    "print('training data:', train_data.shape, '\\n')\n",
    "\n",
    "# print training image\n",
    "print('image index ' + str(ind) + ':')\n",
    "image = np.asarray(train_data[ind]).squeeze()\n",
    "#plt.title(['image index', ind])\n",
    "plt.imshow(image, cmap='Greys')\n",
    "plt.show()\n",
    "# print training label\n",
    "print('label:', train_labels[ind])\n",
    "\n",
    "print(train_data[ind].shape)\n",
    "print(image.shape)"
   ]
  },
  {
   "cell_type": "markdown",
   "metadata": {},
   "source": [
    "## Test data and labels"
   ]
  },
  {
   "cell_type": "code",
   "execution_count": 8,
   "metadata": {},
   "outputs": [],
   "source": [
    "# open test set image file\n",
    "f = gzip.open('t10k-images-idx3-ubyte.gz','r')\n",
    "\n",
    "num_test_images = 10000\n",
    "\n",
    "f.read(16)\n",
    "buf = f.read(image_rows * image_cols * num_test_images)\n",
    "test_data = np.frombuffer(buf, dtype=np.uint8).astype(np.float32)\n",
    "test_data = test_data.reshape(num_test_images, image_rows, image_cols,1)"
   ]
  },
  {
   "cell_type": "code",
   "execution_count": 9,
   "metadata": {},
   "outputs": [],
   "source": [
    "# open test set label file\n",
    "\n",
    "f = gzip.open('t10k-labels-idx1-ubyte.gz','r')\n",
    "f.read(8)\n",
    "buf = f.read(num_test_images)\n",
    "test_labels = np.frombuffer(buf, dtype=np.uint8).astype(np.float32)\n",
    "test_labels = test_labels.reshape(num_test_images,1)"
   ]
  },
  {
   "cell_type": "code",
   "execution_count": 10,
   "metadata": {},
   "outputs": [
    {
     "name": "stdout",
     "output_type": "stream",
     "text": [
      "test data: (10000, 28, 28, 1)\n",
      "image index 0:\n"
     ]
    },
    {
     "data": {
      "image/png": "[encoded data removed]",
      "text/plain": [
       "<Figure size 432x288 with 1 Axes>"
      ]
     },
     "metadata": {
      "needs_background": "light"
     },
     "output_type": "display_data"
    },
    {
     "name": "stdout",
     "output_type": "stream",
     "text": [
      "label: [7.]\n"
     ]
    }
   ],
   "source": [
    "# troubleshoot test data import\n",
    "\n",
    "ind = 0\n",
    "\n",
    "print('test data:', test_data.shape)\n",
    "\n",
    "# print training image\n",
    "print('image index ' + str(ind) + ':')\n",
    "image = np.asarray(test_data[ind]).squeeze()\n",
    "#plt.title(['image index', ind])\n",
    "plt.imshow(image, cmap='Greys')\n",
    "plt.show()\n",
    "# print training label\n",
    "print('label:', test_labels[ind])"
   ]
  },
  {
   "cell_type": "markdown",
   "metadata": {},
   "source": [
    "# Least Sqaures Classification with Ridge Regression"
   ]
  },
  {
   "cell_type": "code",
   "execution_count": null,
   "metadata": {},
   "outputs": [],
   "source": []
  },
  {
   "cell_type": "code",
   "execution_count": 11,
   "metadata": {},
   "outputs": [
    {
     "name": "stdout",
     "output_type": "stream",
     "text": [
      "lamdas:\n",
      " [1.00000000e-04 2.97635144e-04 8.85866790e-04 2.63665090e-03\n",
      " 7.84759970e-03 2.33572147e-02 6.95192796e-02 2.06913808e-01\n",
      " 6.15848211e-01 1.83298071e+00 5.45559478e+00 1.62377674e+01\n",
      " 4.83293024e+01 1.43844989e+02 4.28133240e+02 1.27427499e+03\n",
      " 3.79269019e+03 1.12883789e+04 3.35981829e+04 1.00000000e+05] \n",
      "\n",
      "digit: 0 - [0.0179 0.0179 0.0178 0.0177 0.0177 0.0177 0.0177 0.0175 0.0176 0.0177\n",
      " 0.0176 0.0174 0.0176 0.0173 0.0179 0.0187 0.0198 0.0211 0.0266 0.0416]\n",
      "digit: 1 - [0.0193 0.0193 0.0193 0.0192 0.0192 0.0192 0.0193 0.0192 0.0192 0.0191\n",
      " 0.019  0.019  0.0189 0.0191 0.019  0.0189 0.0184 0.0179 0.0215 0.0458]\n",
      "digit: 2 - [0.0359 0.036  0.036  0.0359 0.0359 0.0359 0.0359 0.0356 0.0356 0.0353\n",
      " 0.0355 0.0357 0.0352 0.0351 0.0353 0.0361 0.0384 0.0433 0.0614 0.0914]\n",
      "digit: 3 - [0.0451 0.0451 0.0451 0.0451 0.045  0.045  0.045  0.045  0.045  0.0447\n",
      " 0.0449 0.0448 0.0446 0.0438 0.044  0.0438 0.0458 0.0511 0.0656 0.0965]\n",
      "digit: 4 - [0.029  0.029  0.029  0.029  0.029  0.029  0.029  0.0289 0.029  0.0291\n",
      " 0.0291 0.0295 0.0297 0.0301 0.0314 0.0337 0.0372 0.0448 0.0706 0.0997]\n",
      "digit: 5 - [0.0537 0.0537 0.0538 0.0538 0.0538 0.0538 0.0538 0.0538 0.0536 0.0536\n",
      " 0.0536 0.0539 0.0537 0.0533 0.0536 0.0557 0.0596 0.074  0.0893 0.0903]\n",
      "digit: 6 - [0.0225 0.0225 0.0225 0.0225 0.0225 0.0224 0.0221 0.0221 0.0221 0.022\n",
      " 0.0222 0.0223 0.022  0.022  0.0213 0.0215 0.0225 0.0254 0.037  0.0864]\n",
      "digit: 7 - [0.031  0.031  0.0311 0.0311 0.0312 0.031  0.0312 0.0311 0.031  0.0308\n",
      " 0.0307 0.0308 0.0311 0.031  0.0299 0.0291 0.0298 0.0338 0.0449 0.0799]\n",
      "digit: 8 - [0.0633 0.0632 0.0632 0.0632 0.0633 0.0632 0.0633 0.0631 0.063  0.0629\n",
      " 0.0629 0.0629 0.0625 0.0627 0.0632 0.0654 0.069  0.0781 0.0918 0.0966]\n",
      "digit: 9 - [0.0567 0.0567 0.0567 0.0567 0.0567 0.0566 0.0566 0.0563 0.0564 0.0565\n",
      " 0.0561 0.0559 0.0559 0.0554 0.0553 0.0575 0.0627 0.0786 0.0945 0.0971]\n",
      "\n",
      "best lamdas:\n",
      " [143.8449888287663, 11288.378916846883, 143.8449888287663, 143.8449888287663, 0.2069138081114788, 143.8449888287663, 428.1332398719387, 1274.2749857031322, 48.32930238571752, 428.1332398719387] \n",
      "\n"
     ]
    }
   ],
   "source": [
    "# optimize best regularizer\n",
    "lamdas = np.logspace(-4,5,num=20)\n",
    "digits = np.array([0,1,2,3,4,5,6,7,8,9])\n",
    "\n",
    "print('lamdas:\\n', lamdas, '\\n')\n",
    "\n",
    "# normalize array and reshape into flattened image vectors, and shuffle randomly\n",
    "A_opt = train_data.reshape(num_train_images, image_rows*image_cols)/255\n",
    "d_opt = train_labels\n",
    "\n",
    "# randomly shuffle\n",
    "A_opt = np.hstack((A_opt, d_opt))\n",
    "np.random.shuffle(A_opt)\n",
    "d_opt = A_opt[:,-1:]\n",
    "A_opt = A_opt[:,:-1]\n",
    "\n",
    "# find best lamda for all binary classifiers\n",
    "A_train = A_opt[:50000,:]\n",
    "A_eval = A_opt[50000:,:]\n",
    "best_lamdas = [0] * len(digits)\n",
    "error_rates = np.zeros((len(digits),len(lamdas)))\n",
    "\n",
    "# get error rate for every digit\n",
    "for digit in digits:\n",
    "    \n",
    "    d_train = set_binary_labels_by_digit(d_opt[:50000,:], digit)\n",
    "    d_eval = set_binary_labels_by_digit(d_opt[50000:,:], digit)\n",
    "\n",
    "    # for every lamda, get avg error rate over all digits\n",
    "    for i, lamda in enumerate(lamdas):\n",
    "        \n",
    "        # train with first 50K\n",
    "        w = np.linalg.inv(A_train.T@A_train+lamda*np.identity(A_train.shape[1]))@A_train.T@d_train\n",
    "        \n",
    "        # evaluate classifier with last 10K\n",
    "        d_hat_eval = np.sign(A_eval@w)\n",
    "        errors = np.count_nonzero(d_eval-d_hat_eval!=0)\n",
    "        error_rates[digit, i] = (errors/d_hat_eval.shape[0])\n",
    "    \n",
    "    # pick lamda with lowest error rate\n",
    "    best_lamdas[digit] = lamdas[np.argmin(error_rates[digit])]\n",
    "    print('digit:', digit, '-', error_rates[digit])\n",
    "\n",
    "print('\\nbest lamdas:\\n', best_lamdas, '\\n')\n"
   ]
  },
  {
   "cell_type": "code",
   "execution_count": 12,
   "metadata": {},
   "outputs": [
    {
     "name": "stdout",
     "output_type": "stream",
     "text": [
      "(784, 10)\n",
      "\n",
      "training error:\n",
      " [0.0154 0.0176 0.0358 0.0427 0.0284 0.0516 0.0221 0.027  0.0629 0.0578] \n",
      " average: 0.03615\n",
      "\n",
      "test error:\n",
      " [0.0121 0.0161 0.0375 0.0414 0.0299 0.0504 0.0239 0.0283 0.0673 0.0558] \n",
      " average: 0.03627\n"
     ]
    }
   ],
   "source": [
    "# train classifier with optimized regularizer\n",
    "\n",
    "A_train = train_data.reshape(num_train_images, image_rows*image_cols)/255\n",
    "A_test = test_data.reshape(num_test_images, image_rows*image_cols)/255\n",
    "\n",
    "W = np.zeros((A_train.shape[1],len(digits)))\n",
    "print(W.shape)\n",
    "\n",
    "# train and test classifier for every digit\n",
    "train_error_rate_by_digit = [0] * len(digits)\n",
    "test_error_rate_by_digit = [0] * len(digits)\n",
    "\n",
    "for digit in digits:\n",
    "\n",
    "    # train classifier with optimized lamda and training data\n",
    "    d_train = set_binary_labels_by_digit(train_labels, digit)\n",
    "    W[:,digit:digit+1] = np.linalg.inv(A_train.T@A_train+best_lamdas[digit]*np.identity(A_train.shape[1]))@A_train.T@d_train\n",
    "    \n",
    "    # find training error\n",
    "    d_hat_train = np.sign(A_train@W[:,digit:digit+1])\n",
    "    errors = np.count_nonzero(d_train-d_hat_train!=0)\n",
    "    train_error_rate_by_digit[digit] = (errors/d_hat_train.shape[0])\n",
    "    \n",
    "    # test trained classifier with test data\n",
    "    d_test = set_binary_labels_by_digit(test_labels, digit)\n",
    "    d_hat_test = np.sign(A_test@W[:,digit:digit+1])\n",
    "    errors = np.count_nonzero(d_test-d_hat_test!=0)\n",
    "    test_error_rate_by_digit[digit] = (errors/d_hat_test.shape[0])\n",
    "\n",
    "print('\\ntraining error:\\n', np.round(train_error_rate_by_digit,4), '\\n average:', np.round(np.average(train_error_rate_by_digit),5))\n",
    "print('\\ntest error:\\n', np.round(test_error_rate_by_digit,4), '\\n average:', np.round(np.average(test_error_rate_by_digit),5))\n"
   ]
  },
  {
   "cell_type": "code",
   "execution_count": null,
   "metadata": {},
   "outputs": [],
   "source": []
  },
  {
   "cell_type": "markdown",
   "metadata": {},
   "source": [
    "# LASSO"
   ]
  },
  {
   "cell_type": "code",
   "execution_count": 13,
   "metadata": {},
   "outputs": [],
   "source": [
    "def ista_solve_hot( A, d, la_array ):\n",
    "    # ista_solve_hot: Iterative soft-thresholding for multiple values of\n",
    "    # lambda with hot start for each case - the converged value for the previous\n",
    "    # value of lambda is used as an initial condition for the current lambda.\n",
    "    # this function solves the minimization problem\n",
    "    # Minimize |Ax-d|_2^2 + lambda*|x|_1 (Lasso regression)\n",
    "    # using iterative soft-thresholding.\n",
    "    max_iter = 10**3\n",
    "    tol = 10**(-3)\n",
    "    tau = 1/np.linalg.norm(A,2)**2\n",
    "    n = A.shape[1]\n",
    "    w = np.zeros((n,1))\n",
    "    num_lam = len(la_array)\n",
    "    X = np.zeros((n, num_lam))\n",
    "    for i, each_lambda in enumerate(la_array):\n",
    "        for j in range(max_iter):\n",
    "            z = w - tau*(A.T@(A@w-d))\n",
    "            w_old = w\n",
    "            w = np.sign(z) * np.clip(np.abs(z)-tau*each_lambda/2, 0, np.inf)\n",
    "            X[:, i:i+1] = w\n",
    "            if np.linalg.norm(w - w_old) < tol:\n",
    "                break\n",
    "    return X"
   ]
  },
  {
   "cell_type": "code",
   "execution_count": 14,
   "metadata": {},
   "outputs": [
    {
     "name": "stdout",
     "output_type": "stream",
     "text": [
      "lamdas:\n",
      " [1.00000000e-04 2.97635144e-04 8.85866790e-04 2.63665090e-03\n",
      " 7.84759970e-03 2.33572147e-02 6.95192796e-02 2.06913808e-01\n",
      " 6.15848211e-01 1.83298071e+00 5.45559478e+00 1.62377674e+01\n",
      " 4.83293024e+01 1.43844989e+02 4.28133240e+02 1.27427499e+03\n",
      " 3.79269019e+03 1.12883789e+04 3.35981829e+04 1.00000000e+05] \n",
      "\n",
      "digit: 0 - [0.0186 0.0186 0.0186 0.0186 0.0186 0.0186 0.0186 0.0186 0.0187 0.0186\n",
      " 0.0186 0.0186 0.0185 0.0185 0.02   0.0266 0.0374 0.1022 0.116  1.    ]\n",
      "digit: 1 - [0.0187 0.0187 0.0187 0.0187 0.0188 0.0187 0.0188 0.0188 0.0187 0.0187\n",
      " 0.0188 0.0188 0.0188 0.0188 0.0184 0.0202 0.0367 0.1139 0.1189 1.    ]\n",
      "digit: 2 - [0.0378 0.0378 0.0377 0.0376 0.0376 0.0377 0.0375 0.0375 0.0375 0.0375\n",
      " 0.0375 0.0375 0.0375 0.0375 0.0403 0.055  0.0976 0.0984 0.0994 1.    ]\n",
      "digit: 3 - [0.047  0.0469 0.0469 0.0469 0.0469 0.047  0.047  0.0471 0.0471 0.0472\n",
      " 0.0472 0.0472 0.0472 0.0471 0.0485 0.0633 0.0996 0.1    0.1055 1.    ]\n",
      "digit: 4 - [0.0351 0.035  0.035  0.035  0.0351 0.0351 0.0351 0.0352 0.0352 0.0353\n",
      " 0.0353 0.0352 0.0352 0.0352 0.0393 0.0581 0.0953 0.0979 0.116  1.    ]\n",
      "digit: 5 - [0.0616 0.0616 0.0617 0.0615 0.0614 0.0613 0.0612 0.0612 0.0612 0.0611\n",
      " 0.0611 0.0611 0.0611 0.061  0.066  0.0814 0.0884 0.0884 0.0895 1.    ]\n",
      "digit: 6 - [0.0264 0.0264 0.0263 0.0263 0.0263 0.0263 0.0262 0.0262 0.0264 0.0264\n",
      " 0.0265 0.0265 0.0265 0.0265 0.0268 0.035  0.0859 0.0971 0.1021 1.    ]\n",
      "digit: 7 - [0.0293 0.0293 0.0293 0.0294 0.0293 0.0294 0.0293 0.0293 0.0294 0.0294\n",
      " 0.0294 0.0294 0.0295 0.0295 0.031  0.0402 0.0949 0.1065 0.1219 1.    ]\n",
      "digit: 8 - [0.0701 0.0699 0.07   0.0699 0.0697 0.0696 0.0697 0.0698 0.0698 0.0697\n",
      " 0.0696 0.0695 0.0695 0.0695 0.0731 0.0883 0.0971 0.0971 0.0999 1.    ]\n",
      "digit: 9 - [0.07   0.07   0.0698 0.0697 0.0694 0.0694 0.0694 0.0693 0.0692 0.0691\n",
      " 0.069  0.0689 0.0689 0.0688 0.0765 0.0977 0.1007 0.1008 0.1108 1.    ]\n",
      "\n",
      "best lamdas:\n",
      " [48.32930238571752, 428.1332398719387, 0.06951927961775606, 0.00029763514416313193, 0.00029763514416313193, 143.8449888287663, 0.06951927961775606, 0.0001, 16.23776739188721, 143.8449888287663] \n",
      "\n"
     ]
    }
   ],
   "source": [
    "# optimize best regularizer\n",
    "lamdas = np.logspace(-4,5,num=20)\n",
    "digits = np.array([0,1,2,3,4,5,6,7,8,9])\n",
    "\n",
    "print('lamdas:\\n', lamdas, '\\n')\n",
    "\n",
    "# normalize array and reshape into flattened image vectors\n",
    "A_opt = train_data.reshape(num_train_images, image_rows*image_cols)/255\n",
    "d_opt = train_labels\n",
    "\n",
    "# randomly shuffle\n",
    "A_opt = np.hstack((A_opt, d_opt))\n",
    "np.random.shuffle(A_opt)\n",
    "d_opt = A_opt[:,-1:]\n",
    "A_opt = A_opt[:,:-1]\n",
    "\n",
    "# find best lamda for all binary classifiers\n",
    "A_train = A_opt[:50000,:]\n",
    "A_eval = A_opt[50000:,:]\n",
    "best_lamdas = [0] * len(digits)\n",
    "   \n",
    "# get error rate for every digit\n",
    "error_rates = np.zeros((len(digits),len(lamdas)))\n",
    "for digit in digits:\n",
    "\n",
    "    # train with first 50K\n",
    "    d_train = set_binary_labels_by_digit(d_opt[:50000,:], digit)\n",
    "    W = ista_solve_hot(A_train,d_train,lamdas)\n",
    "\n",
    "    # evaluate classifier with last 10K\n",
    "    d_eval = set_binary_labels_by_digit(d_opt[50000:,:], digit)\n",
    "    d_hat_eval = np.sign(A_eval@W)\n",
    "    errors = np.count_nonzero(d_eval-d_hat_eval!=0,axis=0)\n",
    "    error_rates[digit] = (errors/d_hat_eval.shape[0])\n",
    "    best_lamdas[digit] = lamdas[np.argmin(error_rates[digit])]\n",
    "    print('digit:', digit, '-', error_rates[digit])\n",
    "\n",
    "print('\\nbest lamdas:\\n', best_lamdas, '\\n')\n"
   ]
  },
  {
   "cell_type": "code",
   "execution_count": 26,
   "metadata": {},
   "outputs": [
    {
     "name": "stdout",
     "output_type": "stream",
     "text": [
      "\n",
      "training error:\n",
      " [0.019  0.0192 0.0393 0.0466 0.0357 0.0656 0.0235 0.0282 0.071  0.0749] \n",
      " average: 0.0423\n",
      "\n",
      "test error:\n",
      " [0.0157 0.0171 0.0397 0.045  0.0353 0.0632 0.0247 0.028  0.0752 0.071 ] \n",
      " average: 0.04149\n"
     ]
    }
   ],
   "source": [
    "# train classifier with optimized regularizer\n",
    "A_train = train_data.reshape(num_train_images, image_rows*image_cols)/255\n",
    "A_test = test_data.reshape(num_test_images, image_rows*image_cols)/255\n",
    "\n",
    "W = np.zeros((A_train.shape[1],len(digits)))\n",
    "\n",
    "# train and test classifier for every digit\n",
    "train_error_rate_by_digit = [0] * len(digits)\n",
    "test_error_rate_by_digit = [0] * len(digits)\n",
    "\n",
    "for digit in digits:\n",
    "    lamda = [0] * 1\n",
    "    lamda[0] = best_lamdas[digit]\n",
    "    \n",
    "    # train classifier with optimized lamda and training data\n",
    "    d_train = set_binary_labels_by_digit(train_labels, digit)\n",
    "    W[:,digit:digit+1] = ista_solve_hot(A_train,d_train,lamda)\n",
    "    \n",
    "    # find training error\n",
    "    d_hat_train = np.sign(A_train@W[:,digit:digit+1])\n",
    "    errors = np.count_nonzero(d_train-d_hat_train!=0)\n",
    "    train_error_rate_by_digit[digit] = (errors/d_hat_train.shape[0])\n",
    "    \n",
    "    # test trained classifier with test data\n",
    "    d_test = set_binary_labels_by_digit(test_labels, digit)\n",
    "    d_hat_test = np.sign(A_test@W[:,digit:digit+1])\n",
    "    errors = np.count_nonzero(d_test-d_hat_test!=0)\n",
    "    test_error_rate_by_digit[digit] = (errors/d_hat_test.shape[0])\n",
    "\n",
    "print('\\ntraining error:\\n', np.round(train_error_rate_by_digit,4), '\\n average:', np.round(np.average(train_error_rate_by_digit),5))\n",
    "print('\\ntest error:\\n', np.round(test_error_rate_by_digit,4), '\\n average:', np.round(np.average(test_error_rate_by_digit),5))\n"
   ]
  },
  {
   "cell_type": "code",
   "execution_count": null,
   "metadata": {},
   "outputs": [],
   "source": []
  },
  {
   "cell_type": "markdown",
   "metadata": {},
   "source": [
    "# SVM"
   ]
  },
  {
   "cell_type": "code",
   "execution_count": null,
   "metadata": {},
   "outputs": [],
   "source": []
  },
  {
   "cell_type": "code",
   "execution_count": 34,
   "metadata": {},
   "outputs": [],
   "source": [
    "from sklearn.svm import LinearSVC\n",
    "\n",
    "A_train = train_data.reshape(num_train_images, image_rows*image_cols)/255\n",
    "A_test = test_data.reshape(num_test_images, image_rows*image_cols)/255\n",
    "n_train = np.size(A_train[:,0:1])\n",
    "n_test = np.size(A_test[:,0:1])\n",
    "\n",
    "A_train_1 = np.hstack((A_train, np.ones((n_train,1)) ))\n",
    "A_test_1 = np.hstack((A_test, np.ones((n_test,1)) ))\n",
    "\n",
    "# train and test classifier for every digit\n",
    "train_error_rate_by_digit = [0] * len(digits)\n",
    "test_error_rate_by_digit = [0] * len(digits)\n",
    "digits = np.array([0,1,2,3,4,5,6,7,8,9])\n",
    "W = np.zeros((A_train_1.shape[1],len(digits)))\n",
    "#print(W.shape)\n",
    "\n",
    "for digit in digits:\n",
    "\n",
    "   # Train classifier using linear SVM from SK Learn library\n",
    "    clf = LinearSVC(random_state=0, dual=False)\n",
    "    d_train = set_binary_labels_by_digit(train_labels, digit)\n",
    "    clf.fit(A_train_1, np.squeeze(d_train))\n",
    "    W[:,digit:digit+1] = clf.coef_.transpose()\n",
    "    #print('done training', digit)\n",
    "    \n",
    "    # find training error\n",
    "    d_hat_train = np.sign(A_train_1@W[:,digit:digit+1])\n",
    "    errors = np.count_nonzero(d_train-d_hat_train!=0)\n",
    "    train_error_rate_by_digit[digit] = (errors/d_hat_train.shape[0])\n",
    "    \n",
    "    # test trained classifier with test data\n",
    "    d_test = set_binary_labels_by_digit(test_labels, digit)\n",
    "    d_hat_test = np.sign(A_test_1@W[:,digit:digit+1])\n",
    "    errors = np.count_nonzero(d_test-d_hat_test!=0)\n",
    "    test_error_rate_by_digit[digit] = (errors/d_hat_test.shape[0])\n",
    "\n"
   ]
  },
  {
   "cell_type": "code",
   "execution_count": 35,
   "metadata": {},
   "outputs": [
    {
     "name": "stdout",
     "output_type": "stream",
     "text": [
      "\n",
      "training error:\n",
      " [0.0123 0.0066 0.0238 0.049  0.0161 0.024  0.0211 0.0132 0.1994 0.0728] \n",
      " average: 0.04383\n",
      "\n",
      "test error:\n",
      " [0.0143 0.0067 0.0227 0.0482 0.0186 0.0234 0.023  0.0171 0.207  0.0736] \n",
      " average: 0.04546\n"
     ]
    }
   ],
   "source": [
    "print('\\ntraining error:\\n', np.round(train_error_rate_by_digit,4), '\\n average:', np.round(np.average(train_error_rate_by_digit),5))\n",
    "print('\\ntest error:\\n', np.round(test_error_rate_by_digit,4), '\\n average:', np.round(np.average(test_error_rate_by_digit),5))\n"
   ]
  },
  {
   "cell_type": "code",
   "execution_count": null,
   "metadata": {},
   "outputs": [],
   "source": []
  }
 ],
 "metadata": {
  "kernelspec": {
   "display_name": "Python 3",
   "language": "python",
   "name": "python3"
  },
  "language_info": {
   "codemirror_mode": {
    "name": "ipython",
    "version": 3
   },
   "file_extension": ".py",
   "mimetype": "text/x-python",
   "name": "python",
   "nbconvert_exporter": "python",
   "pygments_lexer": "ipython3",
   "version": "3.7.6"
  }
 },
 "nbformat": 4,
 "nbformat_minor": 4
}
