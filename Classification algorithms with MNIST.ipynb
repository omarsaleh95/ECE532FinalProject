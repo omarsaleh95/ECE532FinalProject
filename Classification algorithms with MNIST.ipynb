{
 "cells": [
  {
   "cell_type": "code",
   "execution_count": 2,
   "metadata": {},
   "outputs": [],
   "source": [
    "# setup\n",
    "import numpy as np\n",
    "import gzip\n",
    "import numpy as np\n",
    "import math\n",
    "import matplotlib.pyplot as plt\n"
   ]
  },
  {
   "cell_type": "code",
   "execution_count": 3,
   "metadata": {},
   "outputs": [],
   "source": [
    "def set_binary_labels_by_digit(labels_in, digit):\n",
    "    d = np.zeros((labels_in.shape[0],1))\n",
    "\n",
    "    for i in range(labels_in.shape[0]):\n",
    "        if labels_in[i] == digit:\n",
    "            d[i] = 1\n",
    "        else:\n",
    "            d[i] = -1\n",
    "    \n",
    "    return d\n"
   ]
  },
  {
   "cell_type": "code",
   "execution_count": 4,
   "metadata": {},
   "outputs": [
    {
     "ename": "SyntaxError",
     "evalue": "invalid syntax (<ipython-input-4-49adb0a9d187>, line 1)",
     "output_type": "error",
     "traceback": [
      "\u001b[1;36m  File \u001b[1;32m\"<ipython-input-4-49adb0a9d187>\"\u001b[1;36m, line \u001b[1;32m1\u001b[0m\n\u001b[1;33m    def select_random_subset(features, labels, subset_size)\u001b[0m\n\u001b[1;37m                                                           ^\u001b[0m\n\u001b[1;31mSyntaxError\u001b[0m\u001b[1;31m:\u001b[0m invalid syntax\n"
     ]
    }
   ],
   "source": [
    "def select_random_subset(features, labels, subset_size):\n",
    "    set_indices = np.arange(labels.shape[0])\n",
    "    subset_indices = np.random.choice(set_indices,5,replace=False)\n",
    "    \n",
    "    subset_features = np.zeros((subset_size, features.shape[1]))\n",
    "    subset_labels = np.zeros((subset_size, 1))\n",
    "    \n",
    "    for i, subset_index in enumerate(subset_indices):\n",
    "        subset_features[i] = features[subset_index]\n",
    "        subset_labels[i] = labels[subset_index]\n",
    "        \n",
    "    return subset_features, subset_labels"
   ]
  },
  {
   "cell_type": "markdown",
   "metadata": {},
   "source": [
    "# Data Imports"
   ]
  },
  {
   "cell_type": "code",
   "execution_count": 8,
   "metadata": {},
   "outputs": [],
   "source": [
    "# specify size of images\n",
    "image_rows = 28\n",
    "image_cols = 28"
   ]
  },
  {
   "cell_type": "markdown",
   "metadata": {},
   "source": [
    "## Training data and labels"
   ]
  },
  {
   "cell_type": "code",
   "execution_count": 9,
   "metadata": {},
   "outputs": [],
   "source": [
    "# open training set image file\n",
    "f = gzip.open('train-images-idx3-ubyte.gz','r')\n",
    "\n",
    "num_train_images = 60000\n",
    "\n",
    "f.read(16)\n",
    "buf = f.read(image_rows * image_cols * num_train_images)\n",
    "train_data = np.frombuffer(buf, dtype=np.uint8).astype(np.float32)\n",
    "train_data = train_data.reshape(num_train_images, image_rows, image_cols,1)"
   ]
  },
  {
   "cell_type": "code",
   "execution_count": 10,
   "metadata": {},
   "outputs": [],
   "source": [
    "# open training set label file\n",
    "\n",
    "f = gzip.open('train-labels-idx1-ubyte.gz','r')\n",
    "f.read(8)\n",
    "\n",
    "buf = f.read(num_train_images)\n",
    "train_labels = np.frombuffer(buf, dtype=np.uint8).astype(np.float32)\n",
    "train_labels = train_labels.reshape(num_train_images,1)"
   ]
  },
  {
   "cell_type": "code",
   "execution_count": 11,
   "metadata": {},
   "outputs": [
    {
     "name": "stdout",
     "output_type": "stream",
     "text": [
      "training data: (60000, 28, 28, 1) \n",
      "\n",
      "image index 0:\n"
     ]
    },
    {
     "data": {
      "image/png": "[encoded data removed]",
      "text/plain": [
       "<Figure size 432x288 with 1 Axes>"
      ]
     },
     "metadata": {
      "needs_background": "light"
     },
     "output_type": "display_data"
    },
    {
     "name": "stdout",
     "output_type": "stream",
     "text": [
      "label: [5.]\n",
      "(28, 28, 1)\n",
      "(28, 28)\n"
     ]
    }
   ],
   "source": [
    "# troubleshoot data import\n",
    "\n",
    "ind = 0\n",
    "\n",
    "print('training data:', train_data.shape, '\\n')\n",
    "\n",
    "# print training image\n",
    "print('image index ' + str(ind) + ':')\n",
    "image = np.asarray(train_data[ind]).squeeze()\n",
    "#plt.title(['image index', ind])\n",
    "plt.imshow(image, cmap='Greys')\n",
    "plt.show()\n",
    "# print training label\n",
    "print('label:', train_labels[ind])\n",
    "\n",
    "print(train_data[ind].shape)\n",
    "print(image.shape)"
   ]
  },
  {
   "cell_type": "markdown",
   "metadata": {},
   "source": [
    "## Test data and labels"
   ]
  },
  {
   "cell_type": "code",
   "execution_count": 12,
   "metadata": {},
   "outputs": [],
   "source": [
    "# open test set image file\n",
    "f = gzip.open('t10k-images-idx3-ubyte.gz','r')\n",
    "\n",
    "num_test_images = 10000\n",
    "\n",
    "f.read(16)\n",
    "buf = f.read(image_rows * image_cols * num_test_images)\n",
    "test_data = np.frombuffer(buf, dtype=np.uint8).astype(np.float32)\n",
    "test_data = test_data.reshape(num_test_images, image_rows, image_cols,1)"
   ]
  },
  {
   "cell_type": "code",
   "execution_count": 13,
   "metadata": {},
   "outputs": [],
   "source": [
    "# open test set label file\n",
    "\n",
    "f = gzip.open('t10k-labels-idx1-ubyte.gz','r')\n",
    "f.read(8)\n",
    "buf = f.read(num_test_images)\n",
    "test_labels = np.frombuffer(buf, dtype=np.uint8).astype(np.float32)\n",
    "test_labels = test_labels.reshape(num_test_images,1)"
   ]
  },
  {
   "cell_type": "code",
   "execution_count": 14,
   "metadata": {},
   "outputs": [
    {
     "name": "stdout",
     "output_type": "stream",
     "text": [
      "test data: (10000, 28, 28, 1)\n",
      "image index 0:\n"
     ]
    },
    {
     "data": {
      "image/png": "[encoded data removed]",
      "text/plain": [
       "<Figure size 432x288 with 1 Axes>"
      ]
     },
     "metadata": {
      "needs_background": "light"
     },
     "output_type": "display_data"
    },
    {
     "name": "stdout",
     "output_type": "stream",
     "text": [
      "label: [7.]\n"
     ]
    }
   ],
   "source": [
    "# troubleshoot test data import\n",
    "\n",
    "ind = 0\n",
    "\n",
    "print('test data:', test_data.shape)\n",
    "\n",
    "# print training image\n",
    "print('image index ' + str(ind) + ':')\n",
    "image = np.asarray(test_data[ind]).squeeze()\n",
    "#plt.title(['image index', ind])\n",
    "plt.imshow(image, cmap='Greys')\n",
    "plt.show()\n",
    "# print training label\n",
    "print('label:', test_labels[ind])"
   ]
  },
  {
   "cell_type": "markdown",
   "metadata": {},
   "source": [
    "# Least Sqaures Classification with Ridge Regression"
   ]
  },
  {
   "cell_type": "code",
   "execution_count": null,
   "metadata": {},
   "outputs": [],
   "source": []
  },
  {
   "cell_type": "code",
   "execution_count": 24,
   "metadata": {},
   "outputs": [
    {
     "name": "stdout",
     "output_type": "stream",
     "text": [
      "lamda: 0.1 - avg: 0.03717 - [0.0167, 0.0176, 0.0371, 0.0431, 0.0291, 0.0517, 0.0263, 0.0301, 0.0617, 0.0583]\n",
      "lamda: 0.285 - avg: 0.03713 - [0.0167, 0.0175, 0.0371, 0.0432, 0.0291, 0.0516, 0.0262, 0.0301, 0.0617, 0.0581]\n",
      "lamda: 0.811 - avg: 0.03717 - [0.0167, 0.0175, 0.0372, 0.0432, 0.0292, 0.0515, 0.0261, 0.0301, 0.062, 0.0582]\n",
      "lamda: 2.31 - avg: 0.03715 - [0.0168, 0.0175, 0.0371, 0.0432, 0.0292, 0.0515, 0.026, 0.03, 0.062, 0.0582]\n",
      "lamda: 6.579 - avg: 0.03715 - [0.0168, 0.0175, 0.037, 0.0431, 0.0292, 0.0514, 0.0258, 0.0299, 0.062, 0.0588]\n",
      "lamda: 18.738 - avg: 0.03714 - [0.0166, 0.0174, 0.0368, 0.043, 0.0293, 0.0516, 0.0256, 0.03, 0.062, 0.0591]\n",
      "lamda: 53.367 - avg: 0.0372 - [0.0167, 0.0171, 0.0369, 0.0429, 0.0298, 0.0521, 0.0254, 0.0299, 0.0619, 0.0593]\n"
     ]
    },
    {
     "ename": "KeyboardInterrupt",
     "evalue": "",
     "output_type": "error",
     "traceback": [
      "\u001b[1;31m---------------------------------------------------------------------------\u001b[0m",
      "\u001b[1;31mKeyboardInterrupt\u001b[0m                         Traceback (most recent call last)",
      "\u001b[1;32m<ipython-input-24-9039a0996dbe>\u001b[0m in \u001b[0;36m<module>\u001b[1;34m\u001b[0m\n\u001b[0;32m     28\u001b[0m         \u001b[1;31m# train with first 50K\u001b[0m\u001b[1;33m\u001b[0m\u001b[1;33m\u001b[0m\u001b[1;33m\u001b[0m\u001b[0m\n\u001b[0;32m     29\u001b[0m         \u001b[0md_train\u001b[0m \u001b[1;33m=\u001b[0m \u001b[0mset_binary_labels_by_digit\u001b[0m\u001b[1;33m(\u001b[0m\u001b[0md_opt\u001b[0m\u001b[1;33m[\u001b[0m\u001b[1;33m:\u001b[0m\u001b[1;36m50000\u001b[0m\u001b[1;33m,\u001b[0m\u001b[1;33m:\u001b[0m\u001b[1;33m]\u001b[0m\u001b[1;33m,\u001b[0m \u001b[0mdigit\u001b[0m\u001b[1;33m)\u001b[0m\u001b[1;33m\u001b[0m\u001b[1;33m\u001b[0m\u001b[0m\n\u001b[1;32m---> 30\u001b[1;33m         \u001b[0mw\u001b[0m \u001b[1;33m=\u001b[0m \u001b[0mnp\u001b[0m\u001b[1;33m.\u001b[0m\u001b[0mlinalg\u001b[0m\u001b[1;33m.\u001b[0m\u001b[0minv\u001b[0m\u001b[1;33m(\u001b[0m\u001b[0mA_train\u001b[0m\u001b[1;33m.\u001b[0m\u001b[0mT\u001b[0m\u001b[1;33m@\u001b[0m\u001b[0mA_train\u001b[0m\u001b[1;33m+\u001b[0m\u001b[0mlamda\u001b[0m\u001b[1;33m*\u001b[0m\u001b[0mnp\u001b[0m\u001b[1;33m.\u001b[0m\u001b[0midentity\u001b[0m\u001b[1;33m(\u001b[0m\u001b[0mA_train\u001b[0m\u001b[1;33m.\u001b[0m\u001b[0mshape\u001b[0m\u001b[1;33m[\u001b[0m\u001b[1;36m1\u001b[0m\u001b[1;33m]\u001b[0m\u001b[1;33m)\u001b[0m\u001b[1;33m)\u001b[0m\u001b[1;33m@\u001b[0m\u001b[0mA_train\u001b[0m\u001b[1;33m.\u001b[0m\u001b[0mT\u001b[0m\u001b[1;33m@\u001b[0m\u001b[0md_train\u001b[0m\u001b[1;33m\u001b[0m\u001b[1;33m\u001b[0m\u001b[0m\n\u001b[0m\u001b[0;32m     31\u001b[0m \u001b[1;33m\u001b[0m\u001b[0m\n\u001b[0;32m     32\u001b[0m         \u001b[1;31m# evaluate classifier with last 10K\u001b[0m\u001b[1;33m\u001b[0m\u001b[1;33m\u001b[0m\u001b[1;33m\u001b[0m\u001b[0m\n",
      "\u001b[1;31mKeyboardInterrupt\u001b[0m: "
     ]
    }
   ],
   "source": [
    "# optimize best regularizer\n",
    "lamdas = np.logspace(-1,4,num=12)\n",
    "digits = np.array([0,1,2,3,4,5,6,7,8,9])\n",
    "\n",
    "# normalize array and reshape into flattened image vectors, and shuffle randomly\n",
    "A_opt = train_data.reshape(num_train_images, image_rows*image_cols)/255\n",
    "d_opt = train_labels\n",
    "\n",
    "# randomly shuffle\n",
    "A_opt = np.hstack((A_opt, d_opt))\n",
    "np.random.shuffle(A_opt)\n",
    "d_opt = A_opt[:,-1:]\n",
    "A_opt = A_opt[:,:-1]\n",
    "\n",
    "# find best lamda for all binary classifiers\n",
    "A_train = A_opt[:50000,:]\n",
    "A_eval = A_opt[50000:,:]\n",
    "avg_error_rate_by_lamda = [0] * len(lamdas)\n",
    "\n",
    "# for every lamda, get avg error rate over all digits\n",
    "for i, lamda in enumerate(lamdas):\n",
    "\n",
    "    error_rate_by_digit = [0] * len(digits)\n",
    "    \n",
    "    # get error rate for every digit\n",
    "    for digit in digits:\n",
    "        \n",
    "        # train with first 50K\n",
    "        d_train = set_binary_labels_by_digit(d_opt[:50000,:], digit)\n",
    "        w = np.linalg.inv(A_train.T@A_train+lamda*np.identity(A_train.shape[1]))@A_train.T@d_train\n",
    "        \n",
    "        # evaluate classifier with last 10K\n",
    "        d_eval = set_binary_labels_by_digit(d_opt[50000:,:], digit)\n",
    "        d_hat_eval = np.sign(A_eval@w)\n",
    "        errors = np.count_nonzero(d_eval-d_hat_eval!=0)\n",
    "        #print(digit, errors)\n",
    "        error_rate_by_digit[digit] = (errors/d_hat_eval.shape[0])\n",
    "        \n",
    "    avg_error_rate_by_lamda[i] = np.average(error_rate_by_digit)\n",
    "    print('lamda:', np.round(lamda,3), '- avg:', np.round(avg_error_rate_by_lamda[i],5), '-', error_rate_by_digit)\n",
    "\n",
    "print('\\nlamdas:\\n', np.round(lamdas,3), '\\naverage error:\\n', np.round(avg_error_rate_by_lamda,5), '\\n')\n",
    "\n",
    "#pick lamda with lowest avg error rate\n",
    "lamda = lamdas[np.argmin(avg_error_rate_by_lamda)]\n",
    "print('best lamda:', lamda)\n"
   ]
  },
  {
   "cell_type": "code",
   "execution_count": 11,
   "metadata": {},
   "outputs": [
    {
     "name": "stdout",
     "output_type": "stream",
     "text": [
      "(784, 10)\n",
      "avg training error: 0.03665\n",
      "avg test error: 0.03662\n"
     ]
    }
   ],
   "source": [
    "# train classifier with optimized regularizer\n",
    "\n",
    "A_train = train_data.reshape(num_train_images, image_rows*image_cols)/255\n",
    "A_test = test_data.reshape(num_test_images, image_rows*image_cols)/255\n",
    "\n",
    "W = np.zeros((A_train.shape[1],len(digits)))\n",
    "print(W.shape)\n",
    "\n",
    "# train and test classifier for every digit\n",
    "train_error_rate_by_digit = [0] * len(digits)\n",
    "test_error_rate_by_digit = [0] * len(digits)\n",
    "\n",
    "for digit in digits:\n",
    "\n",
    "    # train classifier with optimized lamda and training data\n",
    "    d_train = set_binary_labels_by_digit(train_labels, digit)\n",
    "    W[:,digit:digit+1] = np.linalg.inv(A_train.T@A_train+lamda*np.identity(A_train.shape[1]))@A_train.T@d_train\n",
    "    \n",
    "    # find training error\n",
    "    d_hat_train = np.sign(A_train@W[:,digit:digit+1])\n",
    "    errors = np.count_nonzero(d_train-d_hat_train!=0)\n",
    "    train_error_rate_by_digit[digit] = (errors/d_hat_train.shape[0])\n",
    "    \n",
    "    # test trained classifier with test data\n",
    "    d_test = set_binary_labels_by_digit(test_labels, digit)\n",
    "    d_hat_test = np.sign(A_test@W[:,digit:digit+1])\n",
    "    errors = np.count_nonzero(d_test-d_hat_test!=0)\n",
    "    test_error_rate_by_digit[digit] = (errors/d_hat_test.shape[0])\n",
    "    \n",
    "print('avg training error:', np.average(train_error_rate_by_digit))\n",
    "print('avg test error:', np.average(test_error_rate_by_digit))\n",
    "\n",
    "\n"
   ]
  },
  {
   "cell_type": "code",
   "execution_count": null,
   "metadata": {},
   "outputs": [],
   "source": []
  },
  {
   "cell_type": "markdown",
   "metadata": {},
   "source": [
    "# LASSO"
   ]
  },
  {
   "cell_type": "code",
   "execution_count": 28,
   "metadata": {},
   "outputs": [],
   "source": [
    "def ista_solve_hot( A, d, la_array ):\n",
    "    # ista_solve_hot: Iterative soft-thresholding for multiple values of\n",
    "    # lambda with hot start for each case - the converged value for the previous\n",
    "    # value of lambda is used as an initial condition for the current lambda.\n",
    "    # this function solves the minimization problem\n",
    "    # Minimize |Ax-d|_2^2 + lambda*|x|_1 (Lasso regression)\n",
    "    # using iterative soft-thresholding.\n",
    "    max_iter = 10**4\n",
    "    tol = 10**(-3)\n",
    "    tau = 1/np.linalg.norm(A,2)**2\n",
    "    n = A.shape[1]\n",
    "    w = np.zeros((n,1))\n",
    "    num_lam = len(la_array)\n",
    "    X = np.zeros((n, num_lam))\n",
    "    for i, each_lambda in enumerate(la_array):\n",
    "        print('lamda:',each_lambda)\n",
    "        for j in range(max_iter):\n",
    "            z = w - tau*(A.T@(A@w-d))\n",
    "            w_old = w\n",
    "            w = np.sign(z) * np.clip(np.abs(z)-tau*each_lambda/2, 0, np.inf)\n",
    "            X[:, i:i+1] = w\n",
    "            if np.linalg.norm(w - w_old) < tol:\n",
    "                break\n",
    "    return X"
   ]
  },
  {
   "cell_type": "code",
   "execution_count": null,
   "metadata": {},
   "outputs": [
    {
     "name": "stdout",
     "output_type": "stream",
     "text": [
      "(50000, 784)\n",
      "lamda: 0.01\n",
      "lamda: 0.02848035868435802\n",
      "lamda: 0.08111308307896872\n",
      "lamda: 0.23101297000831592\n",
      "lamda: 0.6579332246575679\n",
      "lamda: 1.873817422860383\n",
      "lamda: 5.336699231206307\n",
      "lamda: 15.199110829529332\n",
      "lamda: 43.28761281083057\n",
      "lamda: 123.28467394420659\n",
      "lamda: 351.11917342151276\n",
      "lamda: 1000.0\n",
      "0 [0.0188 0.0188 0.0188 0.0188 0.0188 0.0188 0.0188 0.0188 0.0188 0.0188\n",
      " 0.0193 0.0215]\n",
      "lamda: 0.01\n"
     ]
    }
   ],
   "source": [
    "# optimize best regularizer\n",
    "lamdas = np.logspace(-2,3,num=12)\n",
    "digits = np.array([0,1,2,3,4,5,6,7,8,9])\n",
    "\n",
    "# normalize array and reshape into flattened image vectors\n",
    "A_opt = train_data.reshape(num_train_images, image_rows*image_cols)/255\n",
    "d_opt = train_labels\n",
    "\n",
    "# randomly shuffle\n",
    "A_opt = np.hstack((A_opt, d_opt))\n",
    "np.random.shuffle(A_opt)\n",
    "d_opt = A_opt[:,-1:]\n",
    "A_opt = A_opt[:,:-1]\n",
    "\n",
    "# find best lamda for all binary classifiers\n",
    "A_train = A_opt[:50000,:]\n",
    "A_eval = A_opt[50000:,:]\n",
    "avg_error_rate_by_lamda = [0] * len(lamdas)\n",
    "print(A_opt.shape)\n",
    "   \n",
    "# get error rate for every digit\n",
    "error_rates = np.zeros((len(digits),len(lamdas)))\n",
    "for digit in digits:\n",
    "    print(digit)\n",
    "    # train with first 50K\n",
    "    d_train = set_binary_labels_by_digit(d_opt[:50000,:], digit)\n",
    "    W = ista_solve_hot(A_train,d_train,lamdas)\n",
    "\n",
    "    # evaluate classifier with last 10K\n",
    "    d_eval = set_binary_labels_by_digit(d_opt[50000:,:], digit)\n",
    "    d_hat_eval = np.sign(A_eval@W)\n",
    "    errors = np.count_nonzero(d_eval-d_hat_eval!=0,axis=0)\n",
    "    error_rates[digit] = (errors/d_hat_eval.shape[0])\n",
    "    print(digit, error_rates[digit])\n",
    "\n",
    "print(error_rates)\n",
    "avg_error_rate_by_lamda = np.average(error_rates, axis=0)\n",
    "print('lamdas:\\n', lamdas, '\\n', avg_error_rate_by_lamda, '\\n')\n",
    "\n",
    "#pick lamda with lowest avg error rate\n",
    "lamda = np.array([lamdas[np.argmin(avg_error_rate_by_lamda)]])\n",
    "print('best lamda:', lamda)"
   ]
  },
  {
   "cell_type": "code",
   "execution_count": 14,
   "metadata": {},
   "outputs": [
    {
     "name": "stdout",
     "output_type": "stream",
     "text": [
      "best lamda: [15.19911083]\n"
     ]
    }
   ],
   "source": [
    "\n",
    "#pick lamda with lowest avg error rate\n",
    "lamda = np.array([lamdas[np.argmin(avg_error_rate_by_lamda)]])\n",
    "print('best lamda:', lamda)"
   ]
  },
  {
   "cell_type": "code",
   "execution_count": 15,
   "metadata": {},
   "outputs": [
    {
     "name": "stdout",
     "output_type": "stream",
     "text": [
      "(784, 10)\n",
      "training errors: [0.0187, 0.017933333333333332, 0.03961666666666667, 0.04688333333333333, 0.03626666666666667, 0.0615, 0.023683333333333334, 0.0284, 0.07098333333333333, 0.06953333333333334]\n",
      "test errors: [0.0156, 0.0162, 0.0397, 0.0452, 0.0362, 0.0589, 0.0249, 0.0283, 0.0752, 0.0659]\n",
      "avg training error: 0.041350000000000005\n",
      "avg test error: 0.04061\n"
     ]
    }
   ],
   "source": [
    "# train classifier with optimized regularizer\n",
    "\n",
    "A_train = train_data.reshape(num_train_images, image_rows*image_cols)/255\n",
    "A_test = test_data.reshape(num_test_images, image_rows*image_cols)/255\n",
    "\n",
    "W = np.zeros((A_train.shape[1],len(digits)))\n",
    "print(W.shape)\n",
    "\n",
    "# train and test classifier for every digit\n",
    "train_error_rate_by_digit = [0] * len(digits)\n",
    "test_error_rate_by_digit = [0] * len(digits)\n",
    "\n",
    "for digit in digits:\n",
    "    #print(digit)\n",
    "    # train classifier with optimized lamda and training data\n",
    "    d_train = set_binary_labels_by_digit(train_labels, digit)\n",
    "    W[:,digit:digit+1] = ista_solve_hot(A_train,d_train,lamda)\n",
    "    \n",
    "    # find training error\n",
    "    d_hat_train = np.sign(A_train@W[:,digit:digit+1])\n",
    "    errors = np.count_nonzero(d_train-d_hat_train!=0)\n",
    "    train_error_rate_by_digit[digit] = (errors/d_hat_train.shape[0])\n",
    "    \n",
    "    # test trained classifier with test data\n",
    "    d_test = set_binary_labels_by_digit(test_labels, digit)\n",
    "    d_hat_test = np.sign(A_test@W[:,digit:digit+1])\n",
    "    errors = np.count_nonzero(d_test-d_hat_test!=0)\n",
    "    test_error_rate_by_digit[digit] = (errors/d_hat_test.shape[0])\n",
    "\n",
    "print('training errors:', train_error_rate_by_digit)\n",
    "print('test errors:', test_error_rate_by_digit)\n",
    "\n",
    "print('avg training error:', np.average(train_error_rate_by_digit))\n",
    "print('avg test error:', np.average(test_error_rate_by_digit))"
   ]
  },
  {
   "cell_type": "code",
   "execution_count": null,
   "metadata": {},
   "outputs": [],
   "source": []
  },
  {
   "cell_type": "markdown",
   "metadata": {},
   "source": [
    "# SVM"
   ]
  },
  {
   "cell_type": "code",
   "execution_count": null,
   "metadata": {},
   "outputs": [],
   "source": []
  },
  {
   "cell_type": "code",
   "execution_count": 16,
   "metadata": {},
   "outputs": [
    {
     "name": "stdout",
     "output_type": "stream",
     "text": [
      "(785, 10)\n",
      "avg training error: 0.04383\n",
      "avg test error: 0.04546\n"
     ]
    }
   ],
   "source": [
    "from sklearn.svm import LinearSVC\n",
    "\n",
    "\n",
    "A_train = train_data.reshape(num_train_images, image_rows*image_cols)/255\n",
    "A_test = test_data.reshape(num_test_images, image_rows*image_cols)/255\n",
    "\n",
    "n_train = np.size(A_train[:,0:1])\n",
    "n_test = np.size(A_test[:,0:1])\n",
    "\n",
    "A_train_1 = np.hstack((A_train, np.ones((n_train,1)) ))\n",
    "A_test_1 = np.hstack((A_test, np.ones((n_test,1)) ))\n",
    "\n",
    "\n",
    "\n",
    "# train and test classifier for every digit\n",
    "train_error_rate_by_digit = [0] * len(digits)\n",
    "test_error_rate_by_digit = [0] * len(digits)\n",
    "digits = np.array([0,1,2,3,4,5,6,7,8,9])\n",
    "W = np.zeros((A_train_1.shape[1],len(digits)))\n",
    "print(W.shape)\n",
    "\n",
    "for digit in digits:\n",
    "\n",
    "   # Train classifier using linear SVM from SK Learn library\n",
    "    clf = LinearSVC(random_state=0, dual=False)\n",
    "    d_train = set_binary_labels_by_digit(train_labels, digit)\n",
    "    clf.fit(A_train_1, np.squeeze(d_train))\n",
    "    W[:,digit:digit+1] = clf.coef_.transpose()\n",
    "    #print('done training', digit)\n",
    "    \n",
    "    # find training error\n",
    "    d_hat_train = np.sign(A_train_1@W[:,digit:digit+1])\n",
    "    errors = np.count_nonzero(d_train-d_hat_train!=0)\n",
    "    train_error_rate_by_digit[digit] = (errors/d_hat_train.shape[0])\n",
    "    #print(digit, 'training error:', train_error_rate_by_digit[digit])\n",
    "\n",
    "    \n",
    "    # test trained classifier with test data\n",
    "    d_test = set_binary_labels_by_digit(test_labels, digit)\n",
    "    d_hat_test = np.sign(A_test_1@W[:,digit:digit+1])\n",
    "    errors = np.count_nonzero(d_test-d_hat_test!=0)\n",
    "    test_error_rate_by_digit[digit] = (errors/d_hat_test.shape[0])\n",
    "    #print(digit, 'test error:', est_error_rate_by_digit[digit])\n",
    "\n",
    "    \n",
    "print('avg training error:', np.average(train_error_rate_by_digit))\n",
    "print('avg test error:', np.average(test_error_rate_by_digit))\n"
   ]
  },
  {
   "cell_type": "code",
   "execution_count": null,
   "metadata": {},
   "outputs": [],
   "source": [
    "error_vec = [0 if i[0]==i[1] else 1 for i in np.hstack((y_hat_outlier, y_eval))]\n",
    "plt.scatter(x_eval[:,0],x_eval[:,1], color=['c' if i==0 else 'r' for i in error_vec])\n",
    "plt.title('errors')\n",
    "plt.show()\n",
    "\n",
    "print('Errors: '+ str(sum(error_vec)))"
   ]
  },
  {
   "cell_type": "code",
   "execution_count": null,
   "metadata": {},
   "outputs": [],
   "source": []
  },
  {
   "cell_type": "markdown",
   "metadata": {},
   "source": [
    "# k-means clustering"
   ]
  },
  {
   "cell_type": "code",
   "execution_count": null,
   "metadata": {},
   "outputs": [],
   "source": [
    "def kMeans(X, K, maxIters = 20):\n",
    "\n",
    "    centroids = X[np.random.choice(len(X), K)]\n",
    "    for i in range(maxIters):\n",
    "        # Cluster Assignment step\n",
    "        C = np.array([np.argmin([(x_i-y_k)@(x_i-y_k) for y_k in centroids]) for x_i in X])\n",
    "        # Update centroids step \n",
    "        centroids = []\n",
    "        for k in range(K):\n",
    "            if (C == k).any():\n",
    "                centroids.append( X[C == k].mean(axis = 0) )\n",
    "            else: # if there are no data points assigned to this certain centroid\n",
    "                centroids.append( X[np.random.choice(len(X))] )\n",
    "    return np.array(centroids) , C"
   ]
  },
  {
   "cell_type": "code",
   "execution_count": null,
   "metadata": {},
   "outputs": [],
   "source": [
    "A_train = train_data.reshape(num_train_images, image_rows*image_cols)/255\n",
    "\n",
    "centroids, C = kMeans(A_train, K = 10)"
   ]
  },
  {
   "cell_type": "code",
   "execution_count": null,
   "metadata": {},
   "outputs": [],
   "source": [
    "\n",
    "print('centroid assigned = ',C, sep=\"\\n\", end='\\n\\n')\n",
    "print('centroids =', centroids.T.round(3), sep=\"\\n\", end='\\n\\n')"
   ]
  },
  {
   "cell_type": "code",
   "execution_count": null,
   "metadata": {},
   "outputs": [],
   "source": []
  },
  {
   "cell_type": "code",
   "execution_count": null,
   "metadata": {},
   "outputs": [],
   "source": []
  }
 ],
 "metadata": {
  "kernelspec": {
   "display_name": "Python 3",
   "language": "python",
   "name": "python3"
  },
  "language_info": {
   "codemirror_mode": {
    "name": "ipython",
    "version": 3
   },
   "file_extension": ".py",
   "mimetype": "text/x-python",
   "name": "python",
   "nbconvert_exporter": "python",
   "pygments_lexer": "ipython3",
   "version": "3.7.6"
  }
 },
 "nbformat": 4,
 "nbformat_minor": 4
}
