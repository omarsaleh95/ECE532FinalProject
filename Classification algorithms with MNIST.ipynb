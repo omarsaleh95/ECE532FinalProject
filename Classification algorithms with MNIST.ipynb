{
 "cells": [
  {
   "cell_type": "code",
   "execution_count": 1,
   "metadata": {},
   "outputs": [],
   "source": [
    "# setup\n",
    "import numpy as np\n",
    "import gzip\n",
    "import numpy as np\n",
    "import math\n",
    "import matplotlib.pyplot as plt\n"
   ]
  },
  {
   "cell_type": "code",
   "execution_count": 2,
   "metadata": {},
   "outputs": [],
   "source": [
    "def set_binary_labels_by_digit(labels_in, digit):\n",
    "    d = np.zeros((labels_in.shape[0],1))\n",
    "\n",
    "    for i in range(labels_in.shape[0]):\n",
    "        if labels_in[i] == digit:\n",
    "            d[i] = 1\n",
    "        else:\n",
    "            d[i] = -1\n",
    "    \n",
    "    return d\n"
   ]
  },
  {
   "cell_type": "markdown",
   "metadata": {},
   "source": [
    "# Data Imports"
   ]
  },
  {
   "cell_type": "code",
   "execution_count": 3,
   "metadata": {},
   "outputs": [],
   "source": [
    "# specify size of images\n",
    "image_rows = 28\n",
    "image_cols = 28"
   ]
  },
  {
   "cell_type": "markdown",
   "metadata": {},
   "source": [
    "## Training data and labels"
   ]
  },
  {
   "cell_type": "code",
   "execution_count": 4,
   "metadata": {},
   "outputs": [],
   "source": [
    "# open training set image file\n",
    "f = gzip.open('train-images-idx3-ubyte.gz','r')\n",
    "\n",
    "num_train_images = 60000\n",
    "\n",
    "f.read(16)\n",
    "buf = f.read(image_rows * image_cols * num_train_images)\n",
    "train_data = np.frombuffer(buf, dtype=np.uint8).astype(np.float32)\n",
    "train_data = train_data.reshape(num_train_images, image_rows, image_cols,1)"
   ]
  },
  {
   "cell_type": "code",
   "execution_count": 5,
   "metadata": {},
   "outputs": [],
   "source": [
    "# open training set label file\n",
    "\n",
    "f = gzip.open('train-labels-idx1-ubyte.gz','r')\n",
    "f.read(8)\n",
    "\n",
    "buf = f.read(num_train_images)\n",
    "train_labels = np.frombuffer(buf, dtype=np.uint8).astype(np.float32)\n",
    "train_labels = train_labels.reshape(num_train_images,1)"
   ]
  },
  {
   "cell_type": "code",
   "execution_count": 6,
   "metadata": {},
   "outputs": [
    {
     "name": "stdout",
     "output_type": "stream",
     "text": [
      "training data: (60000, 28, 28, 1) \n",
      "\n",
      "image index 0:\n"
     ]
    },
    {
     "data": {
      "image/png": "[encoded data removed]",
      "text/plain": [
       "<Figure size 432x288 with 1 Axes>"
      ]
     },
     "metadata": {
      "needs_background": "light"
     },
     "output_type": "display_data"
    },
    {
     "name": "stdout",
     "output_type": "stream",
     "text": [
      "label: [5.]\n",
      "(28, 28, 1)\n",
      "(28, 28)\n"
     ]
    }
   ],
   "source": [
    "# troubleshoot data import\n",
    "\n",
    "ind = 0\n",
    "\n",
    "print('training data:', train_data.shape, '\\n')\n",
    "\n",
    "# print training image\n",
    "print('image index ' + str(ind) + ':')\n",
    "image = np.asarray(train_data[ind]).squeeze()\n",
    "#plt.title(['image index', ind])\n",
    "plt.imshow(image, cmap='Greys')\n",
    "plt.show()\n",
    "# print training label\n",
    "print('label:', train_labels[ind])\n",
    "\n",
    "print(train_data[ind].shape)\n",
    "print(image.shape)"
   ]
  },
  {
   "cell_type": "markdown",
   "metadata": {},
   "source": [
    "## Test data and labels"
   ]
  },
  {
   "cell_type": "code",
   "execution_count": 7,
   "metadata": {},
   "outputs": [],
   "source": [
    "# open test set image file\n",
    "f = gzip.open('t10k-images-idx3-ubyte.gz','r')\n",
    "\n",
    "num_test_images = 10000\n",
    "\n",
    "f.read(16)\n",
    "buf = f.read(image_rows * image_cols * num_test_images)\n",
    "test_data = np.frombuffer(buf, dtype=np.uint8).astype(np.float32)\n",
    "test_data = test_data.reshape(num_test_images, image_rows, image_cols,1)"
   ]
  },
  {
   "cell_type": "code",
   "execution_count": 8,
   "metadata": {},
   "outputs": [],
   "source": [
    "# open test set label file\n",
    "\n",
    "f = gzip.open('t10k-labels-idx1-ubyte.gz','r')\n",
    "f.read(8)\n",
    "buf = f.read(num_test_images)\n",
    "test_labels = np.frombuffer(buf, dtype=np.uint8).astype(np.float32)\n",
    "test_labels = test_labels.reshape(num_test_images,1)"
   ]
  },
  {
   "cell_type": "code",
   "execution_count": 9,
   "metadata": {},
   "outputs": [
    {
     "name": "stdout",
     "output_type": "stream",
     "text": [
      "test data: (10000, 28, 28, 1)\n",
      "image index 0:\n"
     ]
    },
    {
     "data": {
      "image/png": "[encoded data removed]",
      "text/plain": [
       "<Figure size 432x288 with 1 Axes>"
      ]
     },
     "metadata": {
      "needs_background": "light"
     },
     "output_type": "display_data"
    },
    {
     "name": "stdout",
     "output_type": "stream",
     "text": [
      "label: [7.]\n"
     ]
    }
   ],
   "source": [
    "# troubleshoot test data import\n",
    "\n",
    "ind = 0\n",
    "\n",
    "print('test data:', test_data.shape)\n",
    "\n",
    "# print training image\n",
    "print('image index ' + str(ind) + ':')\n",
    "image = np.asarray(test_data[ind]).squeeze()\n",
    "#plt.title(['image index', ind])\n",
    "plt.imshow(image, cmap='Greys')\n",
    "plt.show()\n",
    "# print training label\n",
    "print('label:', test_labels[ind])"
   ]
  },
  {
   "cell_type": "markdown",
   "metadata": {},
   "source": [
    "# Least Sqaures Classification with Ridge Regression"
   ]
  },
  {
   "cell_type": "code",
   "execution_count": null,
   "metadata": {},
   "outputs": [],
   "source": []
  },
  {
   "cell_type": "code",
   "execution_count": 10,
   "metadata": {},
   "outputs": [
    {
     "name": "stdout",
     "output_type": "stream",
     "text": [
      "(50000, 784)\n",
      "1e-05 [0.0162, 0.0158, 0.0328, 0.0423, 0.0249, 0.0504, 0.0218, 0.0282, 0.0612, 0.0519]\n",
      "0.034550000000000004\n",
      "0.0001 [0.0162, 0.0158, 0.0327, 0.0423, 0.0248, 0.0503, 0.0218, 0.0282, 0.0612, 0.0519]\n",
      "0.034519999999999995\n",
      "0.001 [0.0162, 0.0158, 0.0327, 0.0422, 0.0249, 0.0502, 0.0218, 0.0281, 0.0612, 0.0519]\n",
      "0.034499999999999996\n",
      "0.01 [0.0163, 0.0159, 0.0327, 0.0422, 0.0248, 0.0503, 0.0218, 0.0279, 0.0613, 0.0518]\n",
      "0.0345\n",
      "0.1 [0.0162, 0.0157, 0.0326, 0.0422, 0.0248, 0.0501, 0.0215, 0.0279, 0.0613, 0.0516]\n",
      "0.03439\n",
      "1.0 [0.0162, 0.0156, 0.0325, 0.042, 0.025, 0.0501, 0.0214, 0.0278, 0.0614, 0.0515]\n",
      "0.03435\n",
      "10.0 [0.0161, 0.0155, 0.0327, 0.042, 0.0246, 0.05, 0.0214, 0.0276, 0.0614, 0.0519]\n",
      "0.03432\n",
      "100.0 [0.0156, 0.015, 0.0321, 0.0418, 0.0252, 0.0502, 0.0214, 0.0274, 0.0609, 0.0519]\n",
      "0.03415\n",
      "1000.0 [0.0163, 0.0144, 0.0315, 0.0412, 0.026, 0.0516, 0.0191, 0.0263, 0.0621, 0.052]\n",
      "0.03405\n",
      "10000.0 [0.019, 0.0143, 0.0395, 0.0465, 0.0387, 0.0693, 0.0214, 0.029, 0.0725, 0.0718]\n",
      "0.042199999999999994\n",
      "\n",
      " [0.034550000000000004, 0.034519999999999995, 0.034499999999999996, 0.0345, 0.03439, 0.03435, 0.03432, 0.03415, 0.03405, 0.042199999999999994]\n",
      "1000.0\n"
     ]
    }
   ],
   "source": [
    "# optimize best regularizer\n",
    "lamdas = np.logspace(-5,4,num=10)\n",
    "digits = np.array([0,1,2,3,4,5,6,7,8,9])\n",
    "\n",
    "# normalize array and reshape into flattened image vectors\n",
    "A = train_data.reshape(num_train_images, image_rows*image_cols)/255\n",
    "\n",
    "# find best lamda for all binary classifiers\n",
    "A_opt = A[:50000,:]\n",
    "avg_error_rate_by_lamda = [0] * 10\n",
    "print(A_opt.shape)\n",
    "\n",
    "# for every lamda, get avg error rate over all digits\n",
    "for lamda in lamdas:\n",
    "    error_rate_by_digit = [0] * 10\n",
    "    \n",
    "    # get error rate for every digit\n",
    "    for digit in digits:\n",
    "        \n",
    "        # train with first 50K\n",
    "        d_opt = set_binary_labels_by_digit(train_labels[:50000,:], digit)\n",
    "        w = np.linalg.inv(A_opt.T@A_opt+lamda*np.identity(A_opt.shape[1]))@A_opt.T@d_opt\n",
    "        \n",
    "        # evaluate classifier with last 10K\n",
    "        d_eval = set_binary_labels_by_digit(train_labels[50000:,:], digit)\n",
    "        d_hat_eval = np.sign(A[50000:,:]@w)\n",
    "        errors = np.count_nonzero(d_eval-d_hat_eval!=0)\n",
    "        #print(digit, errors)\n",
    "        error_rate_by_digit[digit] = (errors/d_hat_eval.shape[0])\n",
    "        \n",
    "    print(lamda, np.average(error_rate_by_digit), error_rate_by_digit)\n",
    "    avg_error_rate_by_lamda[int(math.log10(lamda)-math.log10(lamdas[0]))] = np.average(error_rate_by_digit)\n",
    "\n",
    "#pick lamda with lowest avg error rate\n",
    "print('\\n', avg_error_rate_by_lamda)\n",
    "lamda = lamdas[np.argmin(avg_error_rate_by_lamda)]\n",
    "\n",
    "print(lamda)\n"
   ]
  },
  {
   "cell_type": "code",
   "execution_count": 19,
   "metadata": {},
   "outputs": [
    {
     "name": "stdout",
     "output_type": "stream",
     "text": [
      "(784, 10)\n",
      "avg training error: 0.037079999999999995\n",
      "avg test error: 0.037\n"
     ]
    }
   ],
   "source": [
    "# train classifier with optimized regularizer\n",
    "\n",
    "\n",
    "A_train = train_data.reshape(num_train_images, image_rows*image_cols)/255\n",
    "A_test = test_data.reshape(num_test_images, image_rows*image_cols)/255\n",
    "\n",
    "W = np.zeros((A_train.shape[1],len(digits)))\n",
    "print(W.shape)\n",
    "\n",
    "# train and test classifier for every digit\n",
    "train_error_rate_by_digit = [0] * 10\n",
    "test_error_rate_by_digit = [0] * 10\n",
    "\n",
    "for digit in digits:\n",
    "\n",
    "    # train classifier with optimized lamda and training data\n",
    "    d_train = set_binary_labels_by_digit(train_labels, digit)\n",
    "    W[:,digit:digit+1] = np.linalg.inv(A_train.T@A_train+lamda*np.identity(A_train.shape[1]))@A_train.T@d_train\n",
    "    \n",
    "    # find training error\n",
    "    d_hat_train = np.sign(A_train@W[:,digit:digit+1])\n",
    "    errors = np.count_nonzero(d_train-d_hat_train!=0)\n",
    "    train_error_rate_by_digit[digit] = (errors/d_hat_train.shape[0])\n",
    "    \n",
    "    # test trained classifier with test data\n",
    "    d_test = set_binary_labels_by_digit(test_labels, digit)\n",
    "    d_hat_test = np.sign(A_test@W[:,digit:digit+1])\n",
    "    errors = np.count_nonzero(d_test-d_hat_test!=0)\n",
    "    test_error_rate_by_digit[digit] = (errors/d_hat_test.shape[0])\n",
    "    \n",
    "print('avg training error:', np.average(train_error_rate_by_digit))\n",
    "print('avg test error:', np.average(test_error_rate_by_digit))\n",
    "\n",
    "\n"
   ]
  },
  {
   "cell_type": "code",
   "execution_count": null,
   "metadata": {},
   "outputs": [],
   "source": []
  }
 ],
 "metadata": {
  "kernelspec": {
   "display_name": "Python 3",
   "language": "python",
   "name": "python3"
  },
  "language_info": {
   "codemirror_mode": {
    "name": "ipython",
    "version": 3
   },
   "file_extension": ".py",
   "mimetype": "text/x-python",
   "name": "python",
   "nbconvert_exporter": "python",
   "pygments_lexer": "ipython3",
   "version": "3.7.6"
  }
 },
 "nbformat": 4,
 "nbformat_minor": 4
}
